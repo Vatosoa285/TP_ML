{
 "cells": [
  {
   "cell_type": "markdown",
   "metadata": {},
   "source": [
    "# Lab2 : Perceptron"
   ]
  },
  {
   "cell_type": "markdown",
   "metadata": {},
   "source": [
    "## Objectives of the practical work\n",
    "\n",
    "The objective is to get hands on experience on the fundamental elements of neural networks:\n",
    " \n",
    " - perceptron architecture (linear regression)\n",
    " - loss function\n",
    " - empirical loss\n",
    " - gradient descent\n",
    "\n",
    "For this we will implement from scratch the data-structure and algorithms to train a perceptron. Note that slides related to the perceptron and neural networks in general are available on [moodle](https://moodle.insa-toulouse.fr/course/view.php?id=1822#section-2).\n",
    "\n",
    "## Dataset\n",
    "\n",
    "The objective of the regression is the prediction of the hydrodynamic performance of sailing yachts from dimensions and velocity.\n",
    "The **inputs** are linked to dimension and hydrodynamics characteristics:\n",
    "1. Longitudinal position of the center of buoyancy\n",
    "(*flottabilité*), adimensional.\n",
    "2. Prismatic coefficient, adimensional.\n",
    "3. Length-displacement ratio, adimensional.\n",
    "4. Beam -draught ratio ((*tiran d’eau*), adimensional.\n",
    "5. Length-beam ratio, adimensional.\n",
    "6. Froude number, adimensional\n",
    "\n",
    "**Target value/predicted value (Output)** = Residuary resistance per unit weight of\n",
    "displacement, adimensional"
   ]
  },
  {
   "cell_type": "code",
   "execution_count": 1,
   "metadata": {},
   "outputs": [],
   "source": [
    "# Import some useful libraries and functions\n",
    "import numpy as np\n",
    "import pandas\n",
    "import matplotlib.pyplot as plt\n",
    "import copy\n",
    "import time\n",
    "\n",
    "def print_stats(dataset):\n",
    "    \"\"\"Print statistics of a dataset\"\"\"\n",
    "    print(pandas.DataFrame(dataset).describe())"
   ]
  },
  {
   "cell_type": "code",
   "execution_count": 2,
   "metadata": {},
   "outputs": [
    {
     "name": "stdout",
     "output_type": "stream",
     "text": [
      "Dataset available\n"
     ]
    }
   ],
   "source": [
    "# Download the data set and place in the current folder (works on linux only)\n",
    "filename = 'yacht_hydrodynamics.data'\n",
    "import os.path\n",
    "import requests\n",
    "\n",
    "if not os.path.exists(filename):\n",
    "    print(\"Downloading dataset...\")\n",
    "    r = requests.get('https://arbimo.github.io/tp-supervised-learning/tp2/' + filename)\n",
    "    open(filename , 'wb').write(r.content)\n",
    "    \n",
    "print('Dataset available')"
   ]
  },
  {
   "cell_type": "markdown",
   "metadata": {},
   "source": [
    "### Explore the dataset\n",
    "\n",
    "- how many examples are there in the dataset?\n",
    "- how many features for each example?\n",
    "- what is the ground truth of the 10th example"
   ]
  },
  {
   "cell_type": "code",
   "execution_count": 3,
   "metadata": {},
   "outputs": [
    {
     "name": "stdout",
     "output_type": "stream",
     "text": [
      "f([-5.    0.6   4.78  4.24  3.15  0.35]) = 8.62\n",
      "f([-5.     0.565  4.77   3.99   3.15   0.15 ]) = 0.18\n",
      "f([-2.3    0.565  4.78   5.35   2.76   0.15 ]) = 0.29\n",
      "f([-5.     0.6    4.78   4.24   3.15   0.325]) = 6.2\n",
      "f([0.    0.53  4.78  3.75  3.15  0.175]) = 0.59\n",
      "There are 308 examples in the dataset, each example has 6 features\n",
      "The ground truth of the 10th example is f([-5.     0.565  4.77   3.99   3.15   0.25 ]) = 1.83\n"
     ]
    }
   ],
   "source": [
    "# loads the dataset and slip between inputs (X) and ground truth (Y)\n",
    "dataset = np.genfromtxt(\"yacht_hydrodynamics.data\", delimiter='')\n",
    "X = dataset[:, :-1] # examples features\n",
    "Y = dataset[:, -1]  # ground truth\n",
    "\n",
    "# Print the first 5 examples\n",
    "for i in range(0,5):\n",
    "    print(f\"f({X[i]}) = {Y[i]}\")\n",
    "#Answer to the questions\n",
    "print (\"There are\", len(dataset), \"examples in the dataset, each example has\", len(X[0]), \"features\")\n",
    "print (\"The ground truth of the 10th example is\", f\"f({X[9]}) = {Y[9]}\")"
   ]
  },
  {
   "cell_type": "markdown",
   "metadata": {},
   "source": [
    "The following command adds a column to the inputs.\n",
    "- what is in the value added this column?\n",
    "- why are we doing this?\n",
    "\n",
    "**Answer**: \n",
    "-> **the np.insert() function adds a column (the column 0) that has for value an additional dataset that has a specific characteristic.As detailed by the print_stats() function it contains only \"1\".\n",
    "This is useful to add the perceptron constant w_0.**"
   ]
  },
  {
   "cell_type": "code",
   "execution_count": 4,
   "metadata": {},
   "outputs": [
    {
     "name": "stdout",
     "output_type": "stream",
     "text": [
      "                0           1           2           3           4           5\n",
      "count  308.000000  308.000000  308.000000  308.000000  308.000000  308.000000\n",
      "mean    -2.381818    0.564136    4.788636    3.936818    3.206818    0.287500\n",
      "std      1.513219    0.023290    0.253057    0.548193    0.247998    0.100942\n",
      "min     -5.000000    0.530000    4.340000    2.810000    2.730000    0.125000\n",
      "25%     -2.400000    0.546000    4.770000    3.750000    3.150000    0.200000\n",
      "50%     -2.300000    0.565000    4.780000    3.955000    3.150000    0.287500\n",
      "75%     -2.300000    0.574000    5.100000    4.170000    3.510000    0.375000\n",
      "max      0.000000    0.600000    5.140000    5.350000    3.640000    0.450000\n",
      "           0           1           2           3           4           5  \\\n",
      "count  308.0  308.000000  308.000000  308.000000  308.000000  308.000000   \n",
      "mean     1.0   -2.381818    0.564136    4.788636    3.936818    3.206818   \n",
      "std      0.0    1.513219    0.023290    0.253057    0.548193    0.247998   \n",
      "min      1.0   -5.000000    0.530000    4.340000    2.810000    2.730000   \n",
      "25%      1.0   -2.400000    0.546000    4.770000    3.750000    3.150000   \n",
      "50%      1.0   -2.300000    0.565000    4.780000    3.955000    3.150000   \n",
      "75%      1.0   -2.300000    0.574000    5.100000    4.170000    3.510000   \n",
      "max      1.0    0.000000    0.600000    5.140000    5.350000    3.640000   \n",
      "\n",
      "                6  \n",
      "count  308.000000  \n",
      "mean     0.287500  \n",
      "std      0.100942  \n",
      "min      0.125000  \n",
      "25%      0.200000  \n",
      "50%      0.287500  \n",
      "75%      0.375000  \n",
      "max      0.450000  \n"
     ]
    }
   ],
   "source": [
    "#to be excuted only once \n",
    "print_stats(X) #before the insert\n",
    "X = np.insert(X, 0, np.ones((len(X))), axis= 1)\n",
    "print_stats(X) #after the insert"
   ]
  },
  {
   "cell_type": "markdown",
   "metadata": {},
   "source": [
    "## Creating the perceptron\n",
    "\n",
    "We now want to define a perceptron, that is, a function of the form: \n",
    "\n",
    "$h_w(x) = w_0 + w_1 \\times x_1 + \\dots + w_n \\times x_n$\n",
    "\n",
    "- Complete the code snippet below to:\n",
    "  - create the vector of weight `w`\n",
    "  - implement the `h` function that evaluate an example based on the vector of weights\n",
    "  - check if this works on a few examples"
   ]
  },
  {
   "cell_type": "code",
   "execution_count": 5,
   "metadata": {},
   "outputs": [
    {
     "name": "stdout",
     "output_type": "stream",
     "text": [
      " For X = [ 1.   -5.    0.6   4.78  4.24  3.15  0.35]  expected_h_w is : 8.62\n",
      "The value calculated by the function h is h_w =  9.120000000000001\n",
      " For X = [ 1.    -5.     0.565  4.77   3.99   3.15   0.15 ]  expected_h_w is : 0.18\n",
      "The value calculated by the function h is h_w =  8.625\n",
      " For X = [ 1.    -2.3    0.565  4.78   5.35   2.76   0.15 ]  expected_h_w is : 0.29\n",
      "The value calculated by the function h is h_w =  12.305\n",
      " For X = [ 1.    -5.     0.6    4.78   4.24   3.15   0.325]  expected_h_w is : 6.2\n",
      "The value calculated by the function h is h_w =  9.095\n"
     ]
    }
   ],
   "source": [
    "nb_features = len(X[0])\n",
    "w = np.ones(nb_features) # w is set here as a vector unit, with that value h(w,x) = sum[X]\n",
    "\n",
    "def h(w, x):\n",
    "    return np.dot(x,w)  \n",
    "\n",
    "# print the ground truth and the evaluation of ground truth on the 4 first examples\n",
    "for i in range(0,4):\n",
    "    print (\" For X =\",X[i],\" expected_h_w is :\",Y[i]) \n",
    "    print (\"The value calculated by the function h is h_w = \",h(w,X[i]))\n",
    "\n",
    "# we can see a tangible loss between the values and that is understandable \n",
    "# the w set here does not necessarily fit the one that will converge the most to the real ground truth expected"
   ]
  },
  {
   "cell_type": "markdown",
   "metadata": {},
   "source": [
    "## Loss function\n",
    "\n",
    "Complete the definiton of the loss function below such that, for a **single** example `x` with ground truth `y`, it returns the $L_2$ loss of $h_w$ on `x`."
   ]
  },
  {
   "cell_type": "code",
   "execution_count": 6,
   "metadata": {},
   "outputs": [
    {
     "name": "stdout",
     "output_type": "stream",
     "text": [
      "The L_2 loss of the first example is 0.25\n"
     ]
    }
   ],
   "source": [
    "def loss(w, x, y):\n",
    "    return (h(w,x)-y)**2\n",
    "    \n",
    "print(f\"The L_2 loss of the first example is {loss(w,X[0],Y[0]):.2f}\")"
   ]
  },
  {
   "cell_type": "markdown",
   "metadata": {},
   "source": [
    "## Empirical loss\n",
    "\n",
    "Complete the function below to compute the empirical loss of $h_w$ on a **set** of examples $X$ with associated ground truths $Y$."
   ]
  },
  {
   "cell_type": "code",
   "execution_count": 7,
   "metadata": {},
   "outputs": [
    {
     "name": "stdout",
     "output_type": "stream",
     "text": [
      "The empirical loss of the set of examples is  229.63\n"
     ]
    }
   ],
   "source": [
    "def emp_loss(w, X, Y):\n",
    "    empLoss =0\n",
    "    for i in range (len(X)):\n",
    "        empLoss+= loss(w, X[i],Y[i])\n",
    "    return (empLoss/len(X))\n",
    "\n",
    "print(f\"The empirical loss of the set of examples is  {emp_loss(w,X,Y):.2f}\")"
   ]
  },
  {
   "cell_type": "markdown",
   "metadata": {},
   "source": [
    "## Gradient update\n",
    "\n",
    "A gradient update is of the form: $w \\gets w + dw$\n",
    "\n",
    "- Complete the function below so that it computes the $dw$ term (the 'update') based on a set of examples `(X, Y)` the step (`alpha`)\n",
    "\n",
    "If you are not sure about the gradient computation, check out the [perceptron slides](https://moodle.insa-toulouse.fr/pluginfile.php/120391/mod_resource/content/1/cm1.pdf) on [Moodle](https://moodle.insa-toulouse.fr/course/view.php?id=1822) (in particular, slide 26). Make sure this computation is clear to you!"
   ]
  },
  {
   "cell_type": "code",
   "execution_count": 8,
   "metadata": {},
   "outputs": [],
   "source": [
    "def compute_update(w, X, Y, alpha):\n",
    "    nb_features = len(X[0])\n",
    "    nb_data = len(X)\n",
    "\n",
    "    w_copy= copy.deepcopy(w)\n",
    "    for i in range(nb_features):\n",
    "        dw =0\n",
    "        for j in range(nb_data):\n",
    "            dw+= (Y[j]-h(w_copy, X[j]))*X[j][i]\n",
    "        w[i]+= alpha*dw"
   ]
  },
  {
   "cell_type": "markdown",
   "metadata": {},
   "source": [
    "## Gradient descent\n",
    "\n",
    "Now implement the gradient descent algorithm that will:\n",
    "\n",
    "- repeatedly apply an update the weights \n",
    "- stops when a max number of iterations is reached (do not consider early stopping for now)\n",
    "- returns the final vector of weights"
   ]
  },
  {
   "cell_type": "code",
   "execution_count": 9,
   "metadata": {},
   "outputs": [],
   "source": [
    "def descent(w_init, X, Y, alpha, max_iter):\n",
    "    w_final =copy.deepcopy(w_init)\n",
    "    for i in range (max_iter):\n",
    "        compute_update(w_final, X, Y, alpha)\n",
    "    return w_final"
   ]
  },
  {
   "cell_type": "markdown",
   "metadata": {},
   "source": [
    "## Exploitation\n",
    "\n",
    "You gradient descent is now complete and you can exploit it to train your perceptron.\n",
    "\n",
    "- Train your perceptron to get a model.\n",
    "- Visualize the evolution of the loss on the training set. Has it converged?\n",
    "- Try training for several choices of `alpha` and `max_iter`. What seem like a reasonable choice?\n",
    "- What is the loss associated with the final model?\n",
    "- Is the final model the optimal one for a perceptron?\n"
   ]
  },
  {
   "cell_type": "code",
   "execution_count": 10,
   "metadata": {},
   "outputs": [],
   "source": [
    "w_init = np.ones((len(X[0])))\n",
    "w_final = descent(w_init, X, Y, alpha = 10e-8, max_iter=100)"
   ]
  },
  {
   "cell_type": "markdown",
   "metadata": {},
   "source": [
    "### Impact of `alpha` and `max_iter`"
   ]
  },
  {
   "cell_type": "code",
   "execution_count": 11,
   "metadata": {},
   "outputs": [],
   "source": [
    "Alphas=np.logspace(-8,-4,20,base=10)\n",
    "LossAlpha=[]\n",
    "\n",
    "for alpha in Alphas:\n",
    "    w_final = descent(w_init, X, Y, alpha = alpha, max_iter=500)\n",
    "    LossAlpha.append(emp_loss(w_final, X, Y))"
   ]
  },
  {
   "cell_type": "code",
   "execution_count": 12,
   "metadata": {},
   "outputs": [],
   "source": [
    "Iters=np.logspace(1,4,20).astype(int)\n",
    "LossIter=[]\n",
    "executionTime=[]\n",
    "\n",
    "for iter in Iters:\n",
    "    st=time.time()\n",
    "    w_final = descent(w_init, X, Y, alpha = 10e-5, max_iter=iter)\n",
    "    et=time.time()-st\n",
    "    LossIter.append(emp_loss(w_final, X, Y))\n",
    "    executionTime.append(et)"
   ]
  },
  {
   "cell_type": "code",
   "execution_count": 13,
   "metadata": {},
   "outputs": [
    {
     "data": {
      "image/png": "[encoded data removed]",
      "text/plain": [
       "<Figure size 432x288 with 3 Axes>"
      ]
     },
     "metadata": {
      "needs_background": "light"
     },
     "output_type": "display_data"
    }
   ],
   "source": [
    "fig, axs = plt.subplots(1, 2, constrained_layout=True)\n",
    "\n",
    "color = 'tab:blue'\n",
    "axs.flat[0].plot(Alphas,LossAlpha)\n",
    "axs.flat[0].set_title('Impact of alpha (max_iter = 500)')\n",
    "axs.flat[0].set_xlabel('alpha')\n",
    "axs.flat[0].set_xscale('log')\n",
    "axs.flat[0].set_ylabel('Empirical loss',color='tab:blue')\n",
    "\n",
    "axs.flat[1].set_title('Impact of max_iter (alpha = 10e-5)')\n",
    "axs.flat[1].set_xlabel('iterations')\n",
    "axs.flat[1].set_ylabel('Empirical loss', color='tab:blue')\n",
    "axs.flat[1].plot(Iters, LossIter, color='tab:blue')\n",
    "axs.flat[1].tick_params(axis='y', color='tab:blue')\n",
    "\n",
    "ax2 = axs.flat[1].twinx()\n",
    "color = 'tab:red'\n",
    "ax2.set_ylabel('execution time (s)', color='tab:red') \n",
    "ax2.plot(Iters, executionTime, color='tab:red')\n",
    "ax2.tick_params(axis='y', labelcolor='tab:red')\n",
    "\n",
    "plt.show()"
   ]
  },
  {
   "cell_type": "markdown",
   "metadata": {},
   "source": [
    "ANALYSIS on the training parameters 'alpha' and 'max_iter'\n",
    "\n",
    "* `alpha`\n",
    "\n",
    "    We remark that using a step too small during the decent isn't performant, however if we use a step too big we can't create the model due to overflow.\n",
    "    We found that using a step of `alpha = 10e-5` create the bests results.\n",
    "\n",
    "* `max_iter`\n",
    "\n",
    "    Incresing the number of iterations allow to reduce the empirical loss, however after 8000 iteration our model seams to have converged.\n",
    "    After that the decent takes more time and doesn't improve the perfomance much.\n",
    "    That is why we will use `max_iter = 8000` for our final model"
   ]
  },
  {
   "cell_type": "markdown",
   "metadata": {},
   "source": [
    "### Our final model"
   ]
  },
  {
   "cell_type": "code",
   "execution_count": 14,
   "metadata": {},
   "outputs": [],
   "source": [
    "w_init = np.ones((len(X[0])))\n",
    "w_final = descent(w_init, X, Y, alpha = 10e-5, max_iter=8000)"
   ]
  },
  {
   "cell_type": "code",
   "execution_count": 15,
   "metadata": {},
   "outputs": [
    {
     "name": "stdout",
     "output_type": "stream",
     "text": [
      "The empirical loss of our first model was 229.63\n",
      "The empirical loss of our final model is 80.08\n"
     ]
    }
   ],
   "source": [
    "print(f\"The empirical loss of our first model was {emp_loss(w_init, X, Y):.2f}\")\n",
    "print(f\"The empirical loss of our final model is {emp_loss(w_final, X, Y):.2f}\")"
   ]
  },
  {
   "cell_type": "code",
   "execution_count": 16,
   "metadata": {},
   "outputs": [
    {
     "data": {
      "image/png": "[encoded data removed]",
      "text/plain": [
       "<Figure size 432x288 with 2 Axes>"
      ]
     },
     "metadata": {
      "needs_background": "light"
     },
     "output_type": "display_data"
    }
   ],
   "source": [
    "num_samples_to_plot = 30\n",
    "\n",
    "fig, axs = plt.subplots(1, 2, constrained_layout=True)\n",
    "axs.flat[0].plot(Y[0:num_samples_to_plot], 'ro', label='y')\n",
    "yw = [h(w_init,x) for x in X]\n",
    "\n",
    "axs.flat[0].plot(yw[0:num_samples_to_plot], 'bx', label='$\\hat{y}$')\n",
    "axs.flat[0].legend()\n",
    "axs.flat[0].set_title(\"Before training\")\n",
    "axs.flat[0].set_xlabel(\"Examples\")\n",
    "axs.flat[0].set_ylim([-10, 60])\n",
    "axs.flat[0].set_ylabel(\"f(examples)\")\n",
    "\n",
    "axs.flat[1].plot(Y[0:num_samples_to_plot], 'ro', label='y')\n",
    "yw = [h(w_final,x) for x in X]\n",
    "axs.flat[1].plot(yw[0:num_samples_to_plot], 'bx', label='$\\hat{y}$')\n",
    "axs.flat[1].set_title(\"After training\")\n",
    "axs.flat[1].legend()\n",
    "axs.flat[1].set_xlabel(\"Examples\")\n",
    "axs.flat[1].set_ylim([-10, 60])\n",
    "axs.flat[1].set_ylabel(\"f(examples)\")\n",
    "plt.show()\n",
    "\n",
    "# We can see below that after training, we are closer to the expected behavior (without coinciding exactly to it). \n",
    "# Is that final model the optimal one for a perceptron?\n",
    "#-> It is a model generated with the optimal parameters found from the gradient descent "
   ]
  },
  {
   "cell_type": "markdown",
   "metadata": {},
   "source": [
    "\n",
    "\n",
    "\n",
    "\n",
    "## Going further\n",
    "\n",
    "The following are extensions of the work previously done. If attempting them **do not modify** the code you produced above so that it can be evaluated.\n",
    "\n",
    "### Improvements to gradient descent\n",
    "\n",
    "Consider improving the gradient descent with:\n",
    "\n",
    " - Stochastic Gradient Descent (SGD), which means selecting a subset of the examples for training\n",
    " - Detection of convergence to halt the algorithm before the maximum number of iterations\n",
    "\n",
    "\n",
    "### Data normalization\n",
    "\n",
    "Different input features can have different units, and very different ranges.\n",
    "Within the perceptron computation, these values will be summed together.\n",
    "While gradient descent is normally able to deal with this (by adapting the weights of the perceptron for each input feature), standardizing the input features usually eases the perceptron training, and can sometimes improve accuracy.\n",
    "\n",
    "\n",
    "\n",
    "\n",
    "```python\n",
    "from sklearn.preprocessing import StandardScaler\n",
    "sc = StandardScaler(copy=True) \n",
    "X_normalized = sc.fit_transform(X)\n",
    "```\n",
    "\n",
    "Try applying a standard normalization to the input features (make sure that you keep a feature column that is always equal to 1). Is the convergence faster ? Try to quantify this speed-up. What about accuracy ?"
   ]
  }
 ],
 "metadata": {
  "kernelspec": {
   "display_name": "Python 3",
   "language": "python",
   "name": "python3"
  },
  "language_info": {
   "codemirror_mode": {
    "name": "ipython",
    "version": 3
   },
   "file_extension": ".py",
   "mimetype": "text/x-python",
   "name": "python",
   "nbconvert_exporter": "python",
   "pygments_lexer": "ipython3",
   "version": "3.8.10"
  }
 },
 "nbformat": 4,
 "nbformat_minor": 4
}
